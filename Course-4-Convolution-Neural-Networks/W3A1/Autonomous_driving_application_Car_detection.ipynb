version https://git-lfs.github.com/spec/v1
oid sha256:c48af32bae24b9d5735d3c0ccfe130901f3a14a230a27ab1a343fe65367cd6a1
size 238653
